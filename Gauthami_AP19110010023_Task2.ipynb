{
 "cells": [
  {
   "cell_type": "code",
   "execution_count": 1,
   "id": "c531cc47",
   "metadata": {},
   "outputs": [
    {
     "name": "stdout",
     "output_type": "stream",
     "text": [
      "Enter your roll no: AP19110010016\n",
      "AP19110010016 Belongs to CSE Department\n"
     ]
    }
   ],
   "source": [
    "string = input(\"Enter your roll no: \")\n",
    "string[-3:]\n",
    "\n",
    "if(string[-3:].startswith ('01')):\n",
    "    print(string, 'Belongs to CSE Department')\n",
    "\n",
    "elif(string[-3:].startswith ('11')):\n",
    "    print(string, 'Belongs to IT Department')\n",
    "\n",
    "elif(string[-3:].startswith ('21')):\n",
    "    print(string, 'Belongs to ECE Department')\n",
    "    \n",
    "else:\n",
    "    print(string, 'is not an SRM Student')"
   ]
  },
  {
   "cell_type": "code",
   "execution_count": 2,
   "id": "0b4c59bd",
   "metadata": {},
   "outputs": [
    {
     "name": "stdout",
     "output_type": "stream",
     "text": [
      "Enter your roll no: AP191100100113\n",
      "AP191100100113 Belongs to IT Department\n"
     ]
    }
   ],
   "source": [
    "string = input(\"Enter your roll no: \")\n",
    "string[-3:]\n",
    "\n",
    "if(string[-3:].startswith ('01')):\n",
    "    print(string, 'Belongs to CSE Department')\n",
    "\n",
    "elif(string[-3:].startswith ('11')):\n",
    "    print(string, 'Belongs to IT Department')\n",
    "\n",
    "elif(string[-3:].startswith ('21')):\n",
    "    print(string, 'Belongs to ECE Department')\n",
    "    \n",
    "else:\n",
    "    print(string, 'is not an SRM Student')"
   ]
  },
  {
   "cell_type": "code",
   "execution_count": 3,
   "id": "e8d738f7",
   "metadata": {},
   "outputs": [
    {
     "name": "stdout",
     "output_type": "stream",
     "text": [
      "Enter your roll no: AP19110010215\n",
      "AP19110010215 Belongs to ECE Department\n"
     ]
    }
   ],
   "source": [
    "string = input(\"Enter your roll no: \")\n",
    "string[-3:]\n",
    "\n",
    "if(string[-3:].startswith ('01')):\n",
    "    print(string, 'Belongs to CSE Department')\n",
    "\n",
    "elif(string[-3:].startswith ('11')):\n",
    "    print(string, 'Belongs to IT Department')\n",
    "\n",
    "elif(string[-3:].startswith ('21')):\n",
    "    print(string, 'Belongs to ECE Department')\n",
    "    \n",
    "else:\n",
    "    print(string, 'is not an SRM Student')"
   ]
  },
  {
   "cell_type": "code",
   "execution_count": 4,
   "id": "7e5c0ee8",
   "metadata": {},
   "outputs": [
    {
     "name": "stdout",
     "output_type": "stream",
     "text": [
      "Enter your roll no: AP19110010023\n",
      "AP19110010023 is not an SRM Student\n"
     ]
    }
   ],
   "source": [
    "string = input(\"Enter your roll no: \")\n",
    "string[-3:]\n",
    "\n",
    "if(string[-3:].startswith ('01')):\n",
    "    print(string, 'Belongs to CSE Department')\n",
    "\n",
    "elif(string[-3:].startswith ('11')):\n",
    "    print(string, 'Belongs to IT Department')\n",
    "\n",
    "elif(string[-3:].startswith ('21')):\n",
    "    print(string, 'Belongs to ECE Department')\n",
    "    \n",
    "else:\n",
    "    print(string, 'is not an SRM Student')"
   ]
  },
  {
   "cell_type": "code",
   "execution_count": null,
   "id": "8e1bf28e",
   "metadata": {},
   "outputs": [],
   "source": []
  }
 ],
 "metadata": {
  "kernelspec": {
   "display_name": "Python 3",
   "language": "python",
   "name": "python3"
  },
  "language_info": {
   "codemirror_mode": {
    "name": "ipython",
    "version": 3
   },
   "file_extension": ".py",
   "mimetype": "text/x-python",
   "name": "python",
   "nbconvert_exporter": "python",
   "pygments_lexer": "ipython3",
   "version": "3.8.8"
  }
 },
 "nbformat": 4,
 "nbformat_minor": 5
}
