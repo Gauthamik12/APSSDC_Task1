{
 "cells": [
  {
   "cell_type": "markdown",
   "id": "2034a2ec",
   "metadata": {},
   "source": [
    "### TASK\n",
    "\n",
    "* take input from the user\n",
    "* check the length of the string even or odd\n",
    "* if the string length is odd access one middle character\n",
    "* if the string length is even access two middle character"
   ]
  },
  {
   "cell_type": "code",
   "execution_count": 3,
   "id": "ecec3636",
   "metadata": {},
   "outputs": [
    {
     "name": "stdout",
     "output_type": "stream",
     "text": [
      "Input string here: Gauthami\n",
      "Length of your string is 8\n",
      "Even String\n",
      "Middle letters from the string are: t h\n"
     ]
    }
   ],
   "source": [
    "a = str(input(\"Input string here: \"))\n",
    "b = len(a) // 2\n",
    "print(\"Length of your string is\",len(a))\n",
    "if len(a) % 2 == 0:\n",
    "    print(\"Even String\")\n",
    "    print(\"Middle letters from the string are:\",a[b - 1],a[b])\n",
    "else:\n",
    "    print(\"Odd String\")\n",
    "    if len(a) % 2 != 0:\n",
    "        print(\"Middle letter from the string is:\",a[b])"
   ]
  },
  {
   "cell_type": "code",
   "execution_count": 4,
   "id": "a91ce360",
   "metadata": {},
   "outputs": [
    {
     "name": "stdout",
     "output_type": "stream",
     "text": [
      "Input string here: Pooja\n",
      "Length of your string is 5\n",
      "Odd String\n",
      "Middle letter from the string is: o\n"
     ]
    }
   ],
   "source": [
    "a = str(input(\"Input string here: \"))\n",
    "b = len(a) // 2\n",
    "print(\"Length of your string is\",len(a))\n",
    "if len(a) % 2 == 0:\n",
    "    print(\"Even String\")\n",
    "    print(\"Middle letters from the string are:\",a[b - 1],a[b])\n",
    "else:\n",
    "    print(\"Odd String\")\n",
    "    if len(a) % 2 != 0:\n",
    "        print(\"Middle letter from the string is:\",a[b])"
   ]
  },
  {
   "cell_type": "code",
   "execution_count": null,
   "id": "de01034e",
   "metadata": {},
   "outputs": [],
   "source": []
  }
 ],
 "metadata": {
  "kernelspec": {
   "display_name": "Python 3",
   "language": "python",
   "name": "python3"
  },
  "language_info": {
   "codemirror_mode": {
    "name": "ipython",
    "version": 3
   },
   "file_extension": ".py",
   "mimetype": "text/x-python",
   "name": "python",
   "nbconvert_exporter": "python",
   "pygments_lexer": "ipython3",
   "version": "3.8.8"
  }
 },
 "nbformat": 4,
 "nbformat_minor": 5
}
