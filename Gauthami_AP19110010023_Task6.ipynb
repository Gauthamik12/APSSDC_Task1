{
 "cells": [
  {
   "cell_type": "markdown",
   "id": "6712fde9",
   "metadata": {},
   "source": [
    "### Task 1: Write a pattern to display 4 digit numbers from list1"
   ]
  },
  {
   "cell_type": "code",
   "execution_count": 1,
   "id": "65524d80",
   "metadata": {},
   "outputs": [],
   "source": [
    "import re"
   ]
  },
  {
   "cell_type": "code",
   "execution_count": 2,
   "id": "34cf1157",
   "metadata": {},
   "outputs": [
    {
     "name": "stdout",
     "output_type": "stream",
     "text": [
      "6321\n",
      "0707\n",
      "6969\n",
      "4200\n"
     ]
    }
   ],
   "source": [
    "list1 = ['6321', '789163873', '425162', '0707', '007', '6969', '128372234244', '1', '4200']\n",
    "for i in list1:\n",
    "    if re.findall('^[0-9]{4}$', i):\n",
    "        print(i)"
   ]
  },
  {
   "cell_type": "markdown",
   "id": "9913e59d",
   "metadata": {},
   "source": [
    "### Task 2: Validate a phone number using patterns. \n",
    "* '[6-9]{1}[0-9]{9}$'"
   ]
  },
  {
   "cell_type": "code",
   "execution_count": 3,
   "id": "4380420c",
   "metadata": {},
   "outputs": [
    {
     "name": "stdout",
     "output_type": "stream",
     "text": [
      "9876543210\n",
      "8123456789\n",
      "7890123456\n"
     ]
    }
   ],
   "source": [
    "ph_list = ['9876543210', '8123456789', '7890123456', '789654', '1234567890']\n",
    "for i in ph_list:\n",
    "    if re.findall('[6-9]{1}[0-9]{9}$', i):\n",
    "        print(i)"
   ]
  },
  {
   "cell_type": "code",
   "execution_count": null,
   "id": "474e0338",
   "metadata": {},
   "outputs": [],
   "source": []
  }
 ],
 "metadata": {
  "kernelspec": {
   "display_name": "Python 3",
   "language": "python",
   "name": "python3"
  },
  "language_info": {
   "codemirror_mode": {
    "name": "ipython",
    "version": 3
   },
   "file_extension": ".py",
   "mimetype": "text/x-python",
   "name": "python",
   "nbconvert_exporter": "python",
   "pygments_lexer": "ipython3",
   "version": "3.8.8"
  }
 },
 "nbformat": 4,
 "nbformat_minor": 5
}
