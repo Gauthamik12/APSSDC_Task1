{
 "cells": [
  {
   "cell_type": "markdown",
   "id": "ba9f1e65",
   "metadata": {},
   "source": [
    "### Problem-1 \n",
    "* Write a Python script to print a dictionary where the keys are numbers between 1 and 15 (both included) and the values are square of keys"
   ]
  },
  {
   "cell_type": "code",
   "execution_count": 2,
   "id": "9fb42674",
   "metadata": {},
   "outputs": [
    {
     "name": "stdout",
     "output_type": "stream",
     "text": [
      "{1: 1, 2: 4, 3: 9, 4: 16, 5: 25, 6: 36, 7: 49, 8: 64, 9: 81, 10: 100, 11: 121, 12: 144, 13: 169, 14: 196, 15: 225}\n"
     ]
    }
   ],
   "source": [
    "dict1={}\n",
    "for i in range(1,16):\n",
    "    dict1[i] = i*i\n",
    "print(dict1)"
   ]
  },
  {
   "cell_type": "markdown",
   "id": "1ef76720",
   "metadata": {},
   "source": [
    "### Problem-2\n",
    "* Write a Python program to map two lists into a dictionary"
   ]
  },
  {
   "cell_type": "code",
   "execution_count": 1,
   "id": "b1d5981e",
   "metadata": {},
   "outputs": [
    {
     "name": "stdout",
     "output_type": "stream",
     "text": [
      "Input the number of elements for the Dictionary: 2\n",
      "Enter L1 1 = Name\n",
      "Enter L1 2 = Age\n",
      "Enter L2 1 = Gammu\n",
      "Enter L2 2 = 19\n",
      "Elements in Dictionary : {'Name': 'Gammu', 'Age': '19'}\n"
     ]
    }
   ],
   "source": [
    "L1  = []\n",
    "L2 = []\n",
    "num = int(input(\"Input the number of elements for the Dictionary: \"))\n",
    "for i in range(0, num):\n",
    "    n1 = input(\"Enter L1 \" + str(i + 1) + \" = \")\n",
    "    L1.append(n1)\n",
    "for i in range(0, num):\n",
    "    n1 = input(\"Enter L2 \" + str(i + 1) + \" = \")\n",
    "    L2.append(n1)\n",
    "    \n",
    "num_dict = dict(zip(L1, L2))\n",
    "print(\"Elements in Dictionary :\",  num_dict)"
   ]
  },
  {
   "cell_type": "markdown",
   "id": "c446acce",
   "metadata": {},
   "source": [
    "### Problem-3\n",
    "* Write a Python program to sort a list alphabetically in a dictionary\n",
    "  * input : {'n1': [2, 3, 1], 'n2': [5, 1, 2], 'n3': [3, 2, 4]}\n",
    "  * output : {'n1': [1, 2, 3], 'n2': [1, 2, 5], 'n3': [2, 3, 4]}"
   ]
  },
  {
   "cell_type": "code",
   "execution_count": 3,
   "id": "1a7de823",
   "metadata": {},
   "outputs": [
    {
     "name": "stdout",
     "output_type": "stream",
     "text": [
      "{'n1': [1, 2, 3], 'n2': [1, 2, 5], 'n3': [2, 3, 4]}\n"
     ]
    }
   ],
   "source": [
    "dict = {'n1': [2, 3, 1], 'n2': [5, 1, 2], 'n3': [3, 2, 4]}\n",
    "sorted_dict = {i: sorted(j) for i, j in dict.items()}\n",
    "print(sorted_dict)"
   ]
  },
  {
   "cell_type": "code",
   "execution_count": null,
   "id": "abfcc62d",
   "metadata": {},
   "outputs": [],
   "source": []
  }
 ],
 "metadata": {
  "kernelspec": {
   "display_name": "Python 3",
   "language": "python",
   "name": "python3"
  },
  "language_info": {
   "codemirror_mode": {
    "name": "ipython",
    "version": 3
   },
   "file_extension": ".py",
   "mimetype": "text/x-python",
   "name": "python",
   "nbconvert_exporter": "python",
   "pygments_lexer": "ipython3",
   "version": "3.8.8"
  }
 },
 "nbformat": 4,
 "nbformat_minor": 5
}
