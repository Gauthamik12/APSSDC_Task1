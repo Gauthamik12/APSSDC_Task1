{
 "cells": [
  {
   "cell_type": "markdown",
   "id": "ff5424b7",
   "metadata": {},
   "source": [
    "## Task:\n",
    "* Generate 3-Digit OTP from two different classes(Mail Class & Phone Class)"
   ]
  },
  {
   "cell_type": "code",
   "execution_count": 1,
   "id": "5902a2a0",
   "metadata": {},
   "outputs": [],
   "source": [
    "import random\n",
    "class Mail:\n",
    "    def __init__(self):\n",
    "        self.v1 = 000\n",
    "        self.v2 = 999\n",
    "    def x(self):\n",
    "            print(random.randint(self.v1,self.v2))\n",
    "        \n",
    "class Phone(Mail):\n",
    "    def y(self):\n",
    "        print(random.randint(self.v1,self.v2))"
   ]
  },
  {
   "cell_type": "code",
   "execution_count": 2,
   "id": "b040acc0",
   "metadata": {},
   "outputs": [
    {
     "name": "stdout",
     "output_type": "stream",
     "text": [
      "344\n"
     ]
    }
   ],
   "source": [
    "#3-Digit OTP from Mail Class\n",
    "obj=Mail()\n",
    "obj.x()"
   ]
  },
  {
   "cell_type": "code",
   "execution_count": 3,
   "id": "641d5ef3",
   "metadata": {},
   "outputs": [
    {
     "name": "stdout",
     "output_type": "stream",
     "text": [
      "558\n"
     ]
    }
   ],
   "source": [
    "#3-Digit OTP from Phone Class\n",
    "object1=Phone()\n",
    "object1.y()"
   ]
  },
  {
   "cell_type": "markdown",
   "id": "0ab1cd92",
   "metadata": {},
   "source": [
    "* Return 6-digit OTP from both base classes(superclasses)"
   ]
  },
  {
   "cell_type": "code",
   "execution_count": 4,
   "id": "0478a8fa",
   "metadata": {},
   "outputs": [],
   "source": [
    "class Mail:\n",
    "    def __init__(self):\n",
    "        self.x = random.randint(000,999)\n",
    "class Phone:\n",
    "    def __init__(self):\n",
    "        self.y = random.randint(000,999)\n",
    "        \n",
    "class otp(Phone,Mail):\n",
    "    def __init__(self):\n",
    "        Mail.__init__(self)\n",
    "        Phone.__init__(self)\n",
    "        print(\"OTP:\",self.x,self.y)"
   ]
  },
  {
   "cell_type": "code",
   "execution_count": 5,
   "id": "c41fd6a4",
   "metadata": {},
   "outputs": [
    {
     "name": "stdout",
     "output_type": "stream",
     "text": [
      "OTP: 642 988\n"
     ]
    }
   ],
   "source": [
    "obj1=otp()"
   ]
  },
  {
   "cell_type": "code",
   "execution_count": null,
   "id": "99722dc3",
   "metadata": {},
   "outputs": [],
   "source": []
  }
 ],
 "metadata": {
  "kernelspec": {
   "display_name": "Python 3",
   "language": "python",
   "name": "python3"
  },
  "language_info": {
   "codemirror_mode": {
    "name": "ipython",
    "version": 3
   },
   "file_extension": ".py",
   "mimetype": "text/x-python",
   "name": "python",
   "nbconvert_exporter": "python",
   "pygments_lexer": "ipython3",
   "version": "3.8.8"
  }
 },
 "nbformat": 4,
 "nbformat_minor": 5
}
