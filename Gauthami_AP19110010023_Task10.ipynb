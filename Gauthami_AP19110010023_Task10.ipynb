{
 "cells": [
  {
   "cell_type": "markdown",
   "id": "ebd8ba98",
   "metadata": {},
   "source": [
    "## Task1:\n",
    "* write a program for getting the last five line from the file"
   ]
  },
  {
   "cell_type": "code",
   "execution_count": 1,
   "id": "4484d85a",
   "metadata": {},
   "outputs": [
    {
     "name": "stdout",
     "output_type": "stream",
     "text": [
      "Task 1 \n",
      "Task 2  \n",
      "Task 3  \n",
      "Task 4  \n",
      "Task 5  \n",
      "Task 6  \n",
      "Task 7  \n",
      "Task 8  \n",
      "\n"
     ]
    }
   ],
   "source": [
    "#creating the file using wirte method\n",
    "#adding lines to the file\n",
    "f = open(\"T10file.txt\",'w')\n",
    "f.write(\"Task 1 \\n\")\n",
    "f.write(\"Task 2  \\n\")\n",
    "f.write(\"Task 3  \\n\")\n",
    "f.write(\"Task 4  \\n\")\n",
    "f.write(\"Task 5  \\n\")\n",
    "f.write(\"Task 6  \\n\")\n",
    "f.write(\"Task 7  \\n\")\n",
    "f.write(\"Task 8  \\n\")\n",
    "\n",
    "#read the file\n",
    "f = open('T10file.txt')\n",
    "print(f.read())\n",
    "f.close()"
   ]
  },
  {
   "cell_type": "code",
   "execution_count": 2,
   "id": "ed908fbd",
   "metadata": {},
   "outputs": [
    {
     "name": "stdout",
     "output_type": "stream",
     "text": [
      "['Task 4  \\n', 'Task 5  \\n', 'Task 6  \\n', 'Task 7  \\n', 'Task 8  \\n']\n"
     ]
    }
   ],
   "source": [
    "#printing the last five line from the file\n",
    "f = open(\"T10file.txt\", \"r\")\n",
    "l = f.readlines()\n",
    "l_l = l[-5:]\n",
    "\n",
    "print(l_l)\n",
    "f.close()"
   ]
  },
  {
   "cell_type": "markdown",
   "id": "ba84b3dd",
   "metadata": {},
   "source": [
    "## Task2:\n",
    "* Create a function for appending the data into the file."
   ]
  },
  {
   "cell_type": "code",
   "execution_count": 7,
   "id": "53ab9196",
   "metadata": {},
   "outputs": [
    {
     "name": "stdout",
     "output_type": "stream",
     "text": [
      "Carrot \n",
      "Lemon \n",
      "Tomato \n",
      "\n"
     ]
    }
   ],
   "source": [
    "f = open('T10file1.txt','w')\n",
    "f.write(\"Carrot \\n\")\n",
    "f.write(\"Lemon \\n\")\n",
    "f.write(\"Tomato \\n\")\n",
    "f.close()\n",
    "\n",
    "f = open('T10file1.txt')\n",
    "print(f.read())\n",
    "f.close()"
   ]
  },
  {
   "cell_type": "code",
   "execution_count": 8,
   "id": "cb39f643",
   "metadata": {},
   "outputs": [
    {
     "name": "stdout",
     "output_type": "stream",
     "text": [
      "Carrot \n",
      "Lemon \n",
      "Tomato \n",
      "Brinjal \n",
      "Onion \n",
      "\n"
     ]
    }
   ],
   "source": [
    "#creating function to append the data \n",
    "def append():\n",
    "    f=open('T10file1.txt', 'a+')\n",
    "    f.write(\"Brinjal \\n\")\n",
    "    f.write(\"Onion \\n\") \n",
    "    f.close()\n",
    "    \n",
    "append()\n",
    "\n",
    "f = open('T10file1.txt')\n",
    "print(f.read())\n",
    "f.close()"
   ]
  },
  {
   "cell_type": "markdown",
   "id": "c8327306",
   "metadata": {},
   "source": [
    "## Task3:\n",
    "* create a program for updating a word in the file"
   ]
  },
  {
   "cell_type": "code",
   "execution_count": 9,
   "id": "90a16f3a",
   "metadata": {},
   "outputs": [
    {
     "name": "stdout",
     "output_type": "stream",
     "text": [
      "Country capital \n",
      "India - Andhra Pradesh \n",
      "\n"
     ]
    }
   ],
   "source": [
    "import re\n",
    "f = open('T10file2.txt','w')\n",
    "f.write(\"Country capital \\n\")\n",
    "f.write(\"India - Andhra Pradesh \\n\")\n",
    "f.close()\n",
    "\n",
    "\n",
    "#reading the file\n",
    "f = open('T10file2.txt')\n",
    "print(f.read())"
   ]
  },
  {
   "cell_type": "code",
   "execution_count": 11,
   "id": "227db9cf",
   "metadata": {},
   "outputs": [
    {
     "name": "stdout",
     "output_type": "stream",
     "text": [
      "Country capital \n",
      "India - Delhi \n",
      "\n"
     ]
    }
   ],
   "source": [
    "with open('T10file2.txt','r+') as f:\n",
    "    text = f.read()\n",
    "    text = re.sub('Andhra Pradesh', 'Delhi', text)\n",
    "    f.seek(0)\n",
    "    f.write(text)\n",
    "    f.truncate()\n",
    "    \n",
    "#reading the file\n",
    "f = open('T10file2.txt')\n",
    "print(f.read())"
   ]
  },
  {
   "cell_type": "code",
   "execution_count": null,
   "id": "81d269da",
   "metadata": {},
   "outputs": [],
   "source": []
  }
 ],
 "metadata": {
  "kernelspec": {
   "display_name": "Python 3",
   "language": "python",
   "name": "python3"
  },
  "language_info": {
   "codemirror_mode": {
    "name": "ipython",
    "version": 3
   },
   "file_extension": ".py",
   "mimetype": "text/x-python",
   "name": "python",
   "nbconvert_exporter": "python",
   "pygments_lexer": "ipython3",
   "version": "3.8.8"
  }
 },
 "nbformat": 4,
 "nbformat_minor": 5
}
