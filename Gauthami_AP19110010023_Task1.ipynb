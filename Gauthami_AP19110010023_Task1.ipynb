{
 "cells": [
  {
   "cell_type": "code",
   "execution_count": 15,
   "id": "7b9b83fb",
   "metadata": {},
   "outputs": [
    {
     "name": "stdout",
     "output_type": "stream",
     "text": [
      "Enter age:45\n",
      "Eligible for voting!\n"
     ]
    }
   ],
   "source": [
    "# Write a  program to check whether the user is elgible to vote or not\n",
    "age=int(input(\"Enter age:\"))\n",
    "if age>=18:\n",
    "    print(\"Eligible for voting!\")\n",
    "else:\n",
    "    print(\"Not eligible for voting.\")"
   ]
  },
  {
   "cell_type": "code",
   "execution_count": 14,
   "id": "724026e1",
   "metadata": {},
   "outputs": [
    {
     "name": "stdout",
     "output_type": "stream",
     "text": [
      "Enter a number:45\n",
      "Positive\n"
     ]
    }
   ],
   "source": [
    "# To check whether the given number is positive or not\n",
    "num=float(input(\"Enter a number:\"))\n",
    "if num>0:\n",
    "    print(\"Positive\")\n",
    "elif num==0:\n",
    "    print(\"Zero\")\n",
    "else:\n",
    "    print(\"Negative\")"
   ]
  },
  {
   "cell_type": "code",
   "execution_count": 2,
   "id": "979a71f2",
   "metadata": {},
   "outputs": [
    {
     "name": "stdout",
     "output_type": "stream",
     "text": [
      "Enter your number:8\n",
      "The number is even and divisible by 4: 8\n"
     ]
    }
   ],
   "source": [
    "# To check whether given number is odd or even, and if it's even check will it be divided by 4 or not\n",
    "x = int(input(\"Enter your number:\"))\n",
    "if (x%2==0 and x%4==0):\n",
    "    print(\"The number is even and divisible by 4:\",x)\n",
    "elif (x%2==0 and x%4!=0):\n",
    "    print(\"The number is even:\",x)    \n",
    "else:\n",
    "    print(\"The number is odd\")"
   ]
  },
  {
   "cell_type": "code",
   "execution_count": 6,
   "id": "9d589543",
   "metadata": {},
   "outputs": [
    {
     "name": "stdout",
     "output_type": "stream",
     "text": [
      "Enter your grade: 80\n",
      "Distinction Grade B\n"
     ]
    }
   ],
   "source": [
    "# Program to print the student grades based on their percentages\n",
    "x=float(input(\"Enter your grade: \"))\n",
    "if x>=90:\n",
    "    print(\"Distinction Grade A \")\n",
    "elif x>=75:\n",
    "    print(\"Distinction Grade B\")\n",
    "elif x>=50:\n",
    "    print(\"Pass Grade C\")\n",
    "else:\n",
    "    print(\"Fail\")"
   ]
  },
  {
   "cell_type": "code",
   "execution_count": 28,
   "id": "68ea6d13",
   "metadata": {},
   "outputs": [
    {
     "name": "stdout",
     "output_type": "stream",
     "text": [
      "Enter Year: 2021\n",
      "2021 is not a Leap Year\n"
     ]
    }
   ],
   "source": [
    "# To check the given year is leap year or not\n",
    "year = int(input(\"Enter Year: \"))\n",
    "\n",
    "if year % 4 == 0 and year % 100 != 0:\n",
    "    print(year, \"is a Leap Year\")\n",
    "elif year % 100 == 0:\n",
    "    print(year, \"is not a Leap Year\")\n",
    "elif year % 400 ==0:\n",
    "    print(year, \"is a Leap Year\")\n",
    "else:\n",
    "    print(year, \"is not a Leap Year\")"
   ]
  }
 ],
 "metadata": {
  "kernelspec": {
   "display_name": "Python 3",
   "language": "python",
   "name": "python3"
  },
  "language_info": {
   "codemirror_mode": {
    "name": "ipython",
    "version": 3
   },
   "file_extension": ".py",
   "mimetype": "text/x-python",
   "name": "python",
   "nbconvert_exporter": "python",
   "pygments_lexer": "ipython3",
   "version": "3.8.8"
  }
 },
 "nbformat": 4,
 "nbformat_minor": 5
}
